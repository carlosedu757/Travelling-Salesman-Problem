{
 "cells": [
  {
   "cell_type": "code",
   "execution_count": 1,
   "metadata": {},
   "outputs": [],
   "source": [
    "import numpy as np  # Biblioteca para manipulação numérica\n",
    "from scipy.optimize import curve_fit  # Método de ajuste de curva"
   ]
  },
  {
   "cell_type": "code",
   "execution_count": 3,
   "metadata": {},
   "outputs": [],
   "source": [
    "# Dados fornecidos\n",
    "valores_n: np.ndarray = np.array([4, 6, 8, 10, 12])  # Lista dos tamanhos de entrada (quantidade de cidades)\n",
    "tempos_execucao: np.ndarray = np.array([0.000099921, 0.000400352, 0.027967893, 3.002764937, 455.701406124])  \n",
    "# Lista dos tempos de execução correspondentes"
   ]
  },
  {
   "cell_type": "code",
   "execution_count": 4,
   "metadata": {},
   "outputs": [],
   "source": [
    "# Definição do modelo exponencial baseado no crescimento fatorial\n",
    "def crescimento_fatorial(n: float, a: float, b: float) -> float:\n",
    "    \"\"\"\n",
    "    Função que modela o crescimento fatorial como uma função exponencial.\n",
    "\n",
    "    Parâmetros:\n",
    "    - n (float): Número de cidades no problema do caixeiro viajante.\n",
    "    - a (float): Coeficiente multiplicativo da função exponencial.\n",
    "    - b (float): Taxa de crescimento exponencial.\n",
    "\n",
    "    Retorno:\n",
    "    - (float): Tempo estimado de execução para um determinado 'n'.\n",
    "    \"\"\"\n",
    "    return a * np.exp(b * n)  # Modelo de crescimento exponencial"
   ]
  },
  {
   "cell_type": "code",
   "execution_count": 5,
   "metadata": {},
   "outputs": [],
   "source": [
    "# Ajuste da curva para encontrar os melhores parâmetros 'a' e 'b'\n",
    "parametros_otimizados, _ = curve_fit(crescimento_fatorial, valores_n, tempos_execucao, maxfev=10000)"
   ]
  },
  {
   "cell_type": "code",
   "execution_count": 6,
   "metadata": {},
   "outputs": [],
   "source": [
    "# Previsão para valores futuros de n\n",
    "valores_n_futuros: np.ndarray = np.array([14, 16, 18, 20])  # Novos valores de entrada para previsão\n",
    "tempos_previstos: np.ndarray = crescimento_fatorial(valores_n_futuros, *parametros_otimizados)  \n",
    "# Aplicação da função ajustada para estimar os tempos de execução"
   ]
  },
  {
   "cell_type": "code",
   "execution_count": 7,
   "metadata": {},
   "outputs": [
    {
     "data": {
      "text/plain": [
       "[(np.int64(14), np.float64(69155.03464661962)),\n",
       " (np.int64(16), np.float64(10494632.573950887)),\n",
       " (np.int64(18), np.float64(1592614527.9953907)),\n",
       " (np.int64(20), np.float64(241687454697.3398))]"
      ]
     },
     "execution_count": 7,
     "metadata": {},
     "output_type": "execute_result"
    }
   ],
   "source": [
    "# Exibir os resultados como pares (n, tempo estimado)\n",
    "list(zip(valores_n_futuros, tempos_previstos))"
   ]
  }
 ],
 "metadata": {
  "kernelspec": {
   "display_name": "Travelling-Salesman-Problem",
   "language": "python",
   "name": "python3"
  },
  "language_info": {
   "codemirror_mode": {
    "name": "ipython",
    "version": 3
   },
   "file_extension": ".py",
   "mimetype": "text/x-python",
   "name": "python",
   "nbconvert_exporter": "python",
   "pygments_lexer": "ipython3",
   "version": "3.12.7"
  }
 },
 "nbformat": 4,
 "nbformat_minor": 2
}
